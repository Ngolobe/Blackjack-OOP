{
 "cells": [
  {
   "cell_type": "markdown",
   "metadata": {},
   "source": [
    "# OOP Blackjack"
   ]
  },
  {
   "cell_type": "markdown",
   "metadata": {},
   "source": [
    "Blackjack, formerly also Black Jack and Vingt-Un, is the American member of a global family of banking games known as Twenty-One, whose relatives include Pontoon and Vingt-et-Un. It is a comparing card game between one or more players and a dealer, where each player in turn competes against the dealer. Players do not compete against each other. It is played with one or more decks of 52 cards, and is the most widely played casino banking game in the world\n",
    "\n",
    "In this project we will use python to simulate the game."
   ]
  },
  {
   "cell_type": "code",
   "execution_count": 1,
   "metadata": {
    "ExecuteTime": {
     "end_time": "2020-04-24T05:26:30.045103Z",
     "start_time": "2020-04-24T05:26:30.043215Z"
    }
   },
   "outputs": [],
   "source": [
    "# import random for card shuffle\n",
    "import random\n",
    "\n",
    "playing=False\n",
    "chip_pool=100\n",
    "bet=1\n",
    "\n",
    "restart_phrase = \"Press 'd' to deal the cards again, or press 'q' to quit\""
   ]
  },
  {
   "cell_type": "code",
   "execution_count": 2,
   "metadata": {
    "ExecuteTime": {
     "end_time": "2020-04-24T05:29:33.760763Z",
     "start_time": "2020-04-24T05:29:33.759195Z"
    }
   },
   "outputs": [],
   "source": [
    "#create an tuple suits,Diamond,club and Spade with therir First letter only\n",
    "\n",
    "suits = ('H','D','C','S')#your code\n",
    "\n",
    "# create a tuple of possible card ranks\n",
    "\n",
    "ranking = ('A', '2', '3', '4', '5', '6', '7', '8', '9', '10', 'J', 'Q', 'K') # your code\n",
    "\n",
    "\n",
    "#create a dict of each ranking with a ranking point value\n",
    "\n",
    "card_val= {'A':1, '2':2, '3':3, '4':4, '5':5, '6':6, '7':7, '8':8, '9':9, '10':10, 'J':10, 'Q':10, 'K':10}# your code"
   ]
  },
  {
   "cell_type": "markdown",
   "metadata": {},
   "source": [
    "# create a class Card\n",
    "- define a constructor with suit and rank\n",
    "- use a dunder method str to return sum of suit and rank\n",
    "- define a method grab_suit which return suit\n",
    "- define a method grab_rank which return rank\n",
    "- define a method draw which print suit+rank"
   ]
  },
  {
   "cell_type": "code",
   "execution_count": 3,
   "metadata": {},
   "outputs": [],
   "source": [
    "class Card:\n",
    "    \n",
    "    def __init__(self,suit,rank):\n",
    "        self.suit = suit\n",
    "        self.rank = rank\n",
    "        \n",
    "    def __str__(self):\n",
    "        return self.suit + self.rank\n",
    "    \n",
    "    def grab_suit(self):\n",
    "        return self.suit\n",
    "    \n",
    "    def grab_rank(self):\n",
    "        return self.rank\n",
    "    \n",
    "    def draw(self):\n",
    "        print (self.suit + self.rank)"
   ]
  },
  {
   "cell_type": "markdown",
   "metadata": {},
   "source": [
    "# create a Hand class\n",
    "- define a empty constructor\n",
    "    - create a variable cards which is an empty list\n",
    "    - create a variable value=0\n",
    "    - create a boolean variable ace which is False\n",
    "- create a dunder method str\n",
    "    - use a list comprehension to add a card hand in variable hand_comp\n",
    "    - return \"the card hand has %s\" %hand_comp\n",
    "- def method card_add with a arg card\n",
    "    - append card in cards\n",
    "    - check if rank of card is A\n",
    "         - set ace to True\n",
    "    - self.value += card_val[card.rank]\n",
    "- def method calc_val\n",
    "    - if ace is true and value is less than 12\n",
    "        - return value added with 10\n",
    "    - else:\n",
    "        - return value only\n",
    "- def method draw with arg hidden\n",
    "    - if hidden is true and playing is true\n",
    "        - set variable starting_card to 1\n",
    "    - else:\n",
    "        - set starting_card to 0\n",
    "    - loop through the range of starting_card and len of cards\n",
    "         - self.cards[x].draw()\n",
    "         \n",
    "         "
   ]
  },
  {
   "cell_type": "code",
   "execution_count": 4,
   "metadata": {},
   "outputs": [],
   "source": [
    "# Create a hand class\n",
    "class Hand:\n",
    "    \n",
    "    def __init__(self):\n",
    "        self.cards = []\n",
    "        self.value = 0\n",
    "        self.ace = False\n",
    "        \n",
    "    def __str__(self):\n",
    "        ''' Return a string of current hand composition'''\n",
    "        hand_comp = \"\"\n",
    "        \n",
    "        #Better way to do this? List comprehension?\n",
    "        for card in self.cards:\n",
    "            card_name = card.__str__()\n",
    "            hand_comp += \" \" + card_name   \n",
    "        return 'The hand has %s' %hand_comp\n",
    "        \n",
    "    def card_add(self,card):\n",
    "        ''' Add another card to the hand'''\n",
    "        self.cards.append(card)\n",
    "        \n",
    "        # Check for Aces\n",
    "        if card.rank == 'A':\n",
    "            self.ace = True\n",
    "        self.value += card_val[card.rank]\n",
    "        \n",
    "    def calc_val(self):\n",
    "        '''Calculate the value of the hand, make aces an 11 if they don't bust the hand'''\n",
    "        if (self.ace == True and self.value < 12):\n",
    "            return self.value + 10\n",
    "        else:\n",
    "            return self.value\n",
    "        \n",
    "    def draw(self,hidden):\n",
    "        if hidden == True and playing == True:\n",
    "            #Don't show first hidden card\n",
    "            starting_card = 1\n",
    "        else:\n",
    "            starting_card = 0\n",
    "        for x in range(starting_card,len(self.cards)):\n",
    "            self.cards[x].draw()\n",
    "            "
   ]
  },
  {
   "cell_type": "markdown",
   "metadata": {},
   "source": [
    "# create a class Deck\n",
    "- define an empty constructor\n",
    "    - list comprehension to append class Card in variable deck \n",
    "- define method shuffle\n",
    "    -call shuffle function to suffle deck\n",
    "\n",
    "- define method deal\n",
    "    - create a variable single_card which pop the deck\n",
    "    - return single_card\n",
    "\n",
    "            "
   ]
  },
  {
   "cell_type": "code",
   "execution_count": 5,
   "metadata": {},
   "outputs": [],
   "source": [
    "class Deck:\n",
    "    \n",
    "    def __init__(self):\n",
    "        ''' Create a deck in order '''\n",
    "        self.deck = []\n",
    "        for suit in suits:\n",
    "            for rank in ranking:\n",
    "                self.deck.append(Card(suit,rank))\n",
    "                \n",
    "    def shuffle(self):\n",
    "        ''' Shuffle the deck, python actually already has a shuffle method in its random lib '''\n",
    "        random.shuffle(self.deck)\n",
    "        \n",
    "    def deal(self):\n",
    "        ''' Grab the first item in the deck '''\n",
    "        single_card = self.deck.pop()\n",
    "        return single_card\n",
    "    \n",
    "    def __str__(self):\n",
    "        deck_comp = \"\"\n",
    "        for card in self.cards:\n",
    "            deck_comp += \" \" + deck_comp.__str__()\n",
    "\n",
    "        return \"The deck has\" + deck_comp\n",
    "\n"
   ]
  },
  {
   "cell_type": "markdown",
   "metadata": {},
   "source": [
    "# Game Implementation"
   ]
  },
  {
   "cell_type": "code",
   "execution_count": 6,
   "metadata": {
    "ExecuteTime": {
     "end_time": "2020-04-24T07:25:42.443422Z",
     "start_time": "2020-04-24T07:25:42.437234Z"
    }
   },
   "outputs": [],
   "source": [
    "# First Bet\n",
    "def make_bet():\n",
    "    ''' Ask the player for the bet amount and '''\n",
    "    \n",
    "    global bet\n",
    "    bet = 0\n",
    "    \n",
    "    print (' What amount of chips would you like to bet? (Enter whole integer please) ')\n",
    "    \n",
    "    # While loop to keep asking for the bet\n",
    "    while bet == 0:\n",
    "        bet_comp = input() # Use bet_comp as a checker\n",
    "        bet_comp = int(bet_comp)\n",
    "        # Check to make sure the bet is within the remaining amount of chips left.\n",
    "        if bet_comp >= 1 and bet_comp <= chip_pool:\n",
    "            bet = bet_comp\n",
    "        else:\n",
    "            print (\"Invalid bet, you only have \" + str(chip_pool) + \" remaining\")\n"
   ]
  },
  {
   "cell_type": "code",
   "execution_count": 7,
   "metadata": {
    "ExecuteTime": {
     "end_time": "2020-04-24T07:25:50.580634Z",
     "start_time": "2020-04-24T07:25:50.564892Z"
    }
   },
   "outputs": [],
   "source": [
    "def deal_cards():\n",
    "    ''' This function deals out cards and sets up round '''\n",
    "    \n",
    "    # Set up all global variables\n",
    "    global result,playing,deck,player_hand,dealer_hand,chip_pool,bet\n",
    "    \n",
    "    # Create a deck\n",
    "    deck = Deck()\n",
    "    \n",
    "    #Shuffle it\n",
    "    deck.shuffle()\n",
    "    \n",
    "    #Set up bet\n",
    "    make_bet()\n",
    "    \n",
    "    # Set up both player and dealer hands\n",
    "    player_hand = Hand()\n",
    "    dealer_hand = Hand()\n",
    "    \n",
    "    # Deal out initial cards\n",
    "    player_hand.card_add(deck.deal())\n",
    "    player_hand.card_add(deck.deal())\n",
    "    \n",
    "    dealer_hand.card_add(deck.deal())\n",
    "    dealer_hand.card_add(deck.deal())\n",
    "    \n",
    "    result = \"Hit or Stand? Press either h or s: \"\n",
    "    \n",
    "    if playing == True:\n",
    "        print ('Fold, Sorry')\n",
    "        chip_pool -= bet\n",
    "    \n",
    "    # Set up to know currently playing hand\n",
    "    playing = True \n",
    "    game_step()"
   ]
  },
  {
   "cell_type": "code",
   "execution_count": 8,
   "metadata": {
    "ExecuteTime": {
     "end_time": "2020-04-24T07:25:59.518743Z",
     "start_time": "2020-04-24T07:25:59.510478Z"
    }
   },
   "outputs": [],
   "source": [
    "def hit():\n",
    "    \n",
    "    ''' Implement the hit button '''\n",
    "    global playing,chip_pool,deck,player_hand,dealer_hand,result,bet\n",
    "    \n",
    "    # If hand is in play add card\n",
    "    if playing:\n",
    "        if player_hand.calc_val() <= 21:\n",
    "            player_hand.card_add(deck.deal())\n",
    "        \n",
    "        print (\"Player hand is %s\" %player_hand)\n",
    "        \n",
    "        if player_hand.calc_val() > 21:\n",
    "            result = 'Busted! '+ restart_phrase\n",
    "            \n",
    "            chip_pool -= bet\n",
    "            playing = False\n",
    "    \n",
    "    else:\n",
    "        result = \"Sorry, can't hit\" + restart_phrase\n",
    "    \n",
    "    game_step()"
   ]
  },
  {
   "cell_type": "code",
   "execution_count": 9,
   "metadata": {
    "ExecuteTime": {
     "end_time": "2020-04-24T07:26:05.643197Z",
     "start_time": "2020-04-24T07:26:05.621367Z"
    }
   },
   "outputs": [],
   "source": [
    "def stand():\n",
    "    global playing,chip_pool,deck,player_hand,dealer_hand,result,bet\n",
    "    ''' This function will now play the dealers hand, since stand was chosen '''\n",
    "    \n",
    "    if playing == False:\n",
    "        if player_hand.calc_val() > 0:\n",
    "            result = \"Sorry, you can't stand!\"\n",
    "            \n",
    "    # Now go through all the other possible options\n",
    "    else:\n",
    "        \n",
    "        # Soft 17 rule\n",
    "        while dealer_hand.calc_val() < 17:\n",
    "            dealer_hand.card_add(deck.deal())\n",
    "            \n",
    "        # Dealer Busts    \n",
    "        if dealer_hand.calc_val() > 21:\n",
    "            result = 'Dealer busts! You win!' + restart_phrase\n",
    "            chip_pool += bet\n",
    "            playing = False\n",
    "            \n",
    "        #Player has better hand than dealer\n",
    "        elif dealer_hand.calc_val() < player_hand.calc_val():\n",
    "            result = 'You beat the dealer, you win!' + restart_phrase\n",
    "            chip_pool += bet\n",
    "            playing = False\n",
    "        \n",
    "        # Push\n",
    "        elif dealer_hand.calc_val() == player_hand.calc_val():\n",
    "            result = 'Tied up, push!' + restart_phrase\n",
    "            playing = False\n",
    "        \n",
    "        # Dealer beats player\n",
    "        else:\n",
    "            result = 'Dealer Wins!' + restart_phrase\n",
    "            chip_pool -= bet\n",
    "            playing = False\n",
    "    game_step()"
   ]
  },
  {
   "cell_type": "code",
   "execution_count": 10,
   "metadata": {
    "ExecuteTime": {
     "end_time": "2020-04-24T07:26:12.297453Z",
     "start_time": "2020-04-24T07:26:12.291103Z"
    }
   },
   "outputs": [],
   "source": [
    "def game_step():\n",
    "    'Function to print game step/status on output'\n",
    "    \n",
    "    #Display Player Hand\n",
    "    print (\"\")\n",
    "    print('Player Hand is: '),\n",
    "    player_hand.draw(hidden =False)\n",
    "    \n",
    "    print ('Player hand total is: '+str(player_hand.calc_val()))\n",
    "    \n",
    "    #Display Dealer Hand\n",
    "    print('Dealer Hand is: '),\n",
    "    dealer_hand.draw(hidden=True)\n",
    "    \n",
    "    # If game round is over\n",
    "    if playing == False:\n",
    "        print  (\" --- for a total of \" + str(dealer_hand.calc_val() ))\n",
    "        print (\"Chip Total: \" + str(chip_pool))\n",
    "    # Otherwise, don't know the second card yet\n",
    "    else: \n",
    "        print (\" with another card hidden upside down\")\n",
    "    \n",
    "    # Print result of hit or stand.\n",
    "    print (result)\n",
    "    \n",
    "    player_input()"
   ]
  },
  {
   "cell_type": "code",
   "execution_count": 11,
   "metadata": {
    "ExecuteTime": {
     "end_time": "2020-04-24T07:26:20.765685Z",
     "start_time": "2020-04-24T07:26:20.758426Z"
    }
   },
   "outputs": [],
   "source": [
    "def game_exit():\n",
    "    print ('Thanks for playing!')\n",
    "    exit()"
   ]
  },
  {
   "cell_type": "code",
   "execution_count": 12,
   "metadata": {
    "ExecuteTime": {
     "end_time": "2020-04-24T07:26:26.271767Z",
     "start_time": "2020-04-24T07:26:26.260360Z"
    }
   },
   "outputs": [],
   "source": [
    "def player_input():\n",
    "    ''' Read user input, lower case it just to be safe'''\n",
    "    plin = input().lower()\n",
    "    \n",
    "    \n",
    "    if plin == 'h':\n",
    "        hit()\n",
    "    elif plin == 's':\n",
    "        stand()\n",
    "    elif plin == 'd':\n",
    "        deal_cards()\n",
    "    elif plin == 'q':\n",
    "        game_exit()\n",
    "    else:\n",
    "        print (\"Invalid Input...Enter h, s, d, or q: \")\n",
    "        player_input()"
   ]
  },
  {
   "cell_type": "code",
   "execution_count": 13,
   "metadata": {
    "ExecuteTime": {
     "end_time": "2020-04-24T09:08:59.083145Z",
     "start_time": "2020-04-24T09:08:59.074622Z"
    }
   },
   "outputs": [
    {
     "name": "stdout",
     "output_type": "stream",
     "text": [
      "Welcome to BlackJack!\n",
      " What amount of chips would you like to bet? (Enter whole integer please) \n",
      "5\n",
      "\n",
      "Player Hand is: \n",
      "DJ\n",
      "H2\n",
      "Player hand total is: 12\n",
      "Dealer Hand is: \n",
      "SQ\n",
      " with another card hidden upside down\n",
      "Hit or Stand? Press either h or s: \n",
      "h\n",
      "Player hand is The hand has  DJ H2 C4\n",
      "\n",
      "Player Hand is: \n",
      "DJ\n",
      "H2\n",
      "C4\n",
      "Player hand total is: 16\n",
      "Dealer Hand is: \n",
      "SQ\n",
      " with another card hidden upside down\n",
      "Hit or Stand? Press either h or s: \n",
      "h\n",
      "Player hand is The hand has  DJ H2 C4 S9\n",
      "\n",
      "Player Hand is: \n",
      "DJ\n",
      "H2\n",
      "C4\n",
      "S9\n",
      "Player hand total is: 25\n",
      "Dealer Hand is: \n",
      "C6\n",
      "SQ\n",
      " --- for a total of 16\n",
      "Chip Total: 95\n",
      "Busted! Press 'd' to deal the cards again, or press 'q' to quit\n",
      "d\n",
      " What amount of chips would you like to bet? (Enter whole integer please) \n",
      "5\n",
      "\n",
      "Player Hand is: \n",
      "DJ\n",
      "SK\n",
      "Player hand total is: 20\n",
      "Dealer Hand is: \n",
      "S6\n",
      " with another card hidden upside down\n",
      "Hit or Stand? Press either h or s: \n",
      "s\n",
      "\n",
      "Player Hand is: \n",
      "DJ\n",
      "SK\n",
      "Player hand total is: 20\n",
      "Dealer Hand is: \n",
      "H3\n",
      "S6\n",
      "CJ\n",
      " --- for a total of 19\n",
      "Chip Total: 100\n",
      "You beat the dealer, you win!Press 'd' to deal the cards again, or press 'q' to quit\n",
      "q\n",
      "Thanks for playing!\n"
     ]
    }
   ],
   "source": [
    "'''The following code will initiate the game! (Note: Need to Run all Cells)'''\n",
    "\n",
    "# Create a Deck and hold in in deck variable\n",
    "deck = Deck()\n",
    "#Shuffle it\n",
    "deck.shuffle()\n",
    "# Create player and dealer hands\n",
    "player_hand = Hand()\n",
    "dealer_hand = Hand()\n",
    "#Print the intro\n",
    "statement = '''Welcome to BlackJack!'''\n",
    "print (statement)\n",
    "# Deal out the cards and start the game!\n",
    "deal_cards()"
   ]
  },
  {
   "cell_type": "code",
   "execution_count": null,
   "metadata": {},
   "outputs": [],
   "source": []
  }
 ],
 "metadata": {
  "kernelspec": {
   "display_name": "Python 3",
   "language": "python",
   "name": "python3"
  },
  "language_info": {
   "codemirror_mode": {
    "name": "ipython",
    "version": 3
   },
   "file_extension": ".py",
   "mimetype": "text/x-python",
   "name": "python",
   "nbconvert_exporter": "python",
   "pygments_lexer": "ipython3",
   "version": "3.7.6"
  },
  "toc": {
   "base_numbering": 1,
   "nav_menu": {},
   "number_sections": true,
   "sideBar": true,
   "skip_h1_title": false,
   "title_cell": "Table of Contents",
   "title_sidebar": "Contents",
   "toc_cell": false,
   "toc_position": {},
   "toc_section_display": true,
   "toc_window_display": false
  },
  "varInspector": {
   "cols": {
    "lenName": 16,
    "lenType": 16,
    "lenVar": 40
   },
   "kernels_config": {
    "python": {
     "delete_cmd_postfix": "",
     "delete_cmd_prefix": "del ",
     "library": "var_list.py",
     "varRefreshCmd": "print(var_dic_list())"
    },
    "r": {
     "delete_cmd_postfix": ") ",
     "delete_cmd_prefix": "rm(",
     "library": "var_list.r",
     "varRefreshCmd": "cat(var_dic_list()) "
    }
   },
   "types_to_exclude": [
    "module",
    "function",
    "builtin_function_or_method",
    "instance",
    "_Feature"
   ],
   "window_display": false
  }
 },
 "nbformat": 4,
 "nbformat_minor": 2
}
